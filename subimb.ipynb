{
 "metadata": {
  "language_info": {
   "codemirror_mode": {
    "name": "ipython",
    "version": 3
   },
   "file_extension": ".py",
   "mimetype": "text/x-python",
   "name": "python",
   "nbconvert_exporter": "python",
   "pygments_lexer": "ipython3",
   "version": "3.9.4"
  },
  "orig_nbformat": 4,
  "kernelspec": {
   "name": "python3",
   "display_name": "Python 3.9.4 64-bit"
  },
  "interpreter": {
   "hash": "aee8b7b246df8f9039afb4144a1f6fd8d2ca17a180786b69acc140d282b71a49"
  }
 },
 "nbformat": 4,
 "nbformat_minor": 2,
 "cells": [
  {
   "cell_type": "code",
   "execution_count": 1,
   "metadata": {},
   "outputs": [],
   "source": [
    "#!/usr/bin/env python\n",
    "# importing pandas and re for regular expressions\n",
    "import pandas as pd\n",
    "import re"
   ]
  },
  {
   "cell_type": "code",
   "execution_count": 2,
   "metadata": {},
   "outputs": [],
   "source": [
    "# initializing subtitle length in seconds\n",
    "sublength = \"5s\""
   ]
  },
  {
   "cell_type": "code",
   "execution_count": 3,
   "metadata": {},
   "outputs": [
    {
     "output_type": "stream",
     "name": "stdout",
     "text": [
      "Dissuade ecstatic and properly saw\nentirely sir why laughter endeavor.\n\nIn on my jointure 2:3 horrible margaret\nsuitable he followed speedily.\n\n\n\nIndeed vanity excuse 5 or mr lovers of on.\n\nBy offer scale an stuff.\nBlush be sorry no sight.\n\nSang lose of hour then he left find. \nNow residence dashwoods she excellent you.\n"
     ]
    }
   ],
   "source": [
    "# initializing input txt file\n",
    "tinp0 = open('subtitles.txt', 'r')\n",
    "tinp = tinp0.read()\n",
    "print(tinp)"
   ]
  },
  {
   "cell_type": "code",
   "execution_count": 4,
   "metadata": {},
   "outputs": [
    {
     "output_type": "stream",
     "name": "stdout",
     "text": [
      "['Dissuade ecstatic and properly saw\\nentirely sir why laughter endeavor.', 'In on my jointure 2:3 horrible margaret\\nsuitable he followed speedily.', 'Indeed vanity excuse 5 or mr lovers of on.', 'By offer scale an stuff.\\nBlush be sorry no sight.', 'Sang lose of hour then he left find. \\nNow residence dashwoods she excellent you.']\n"
     ]
    }
   ],
   "source": [
    "# splitting paragraphs into list items with regex\n",
    "par = re.split('\\n{2,}', tinp)\n",
    "print(par)"
   ]
  },
  {
   "cell_type": "code",
   "execution_count": 5,
   "metadata": {},
   "outputs": [
    {
     "output_type": "stream",
     "name": "stdout",
     "text": [
      "total number of paragraphs: 5\n"
     ]
    }
   ],
   "source": [
    "# pulling number of paragraphs in a text doc\n",
    "npar = len(par)\n",
    "print('total number of paragraphs:',npar)"
   ]
  },
  {
   "cell_type": "code",
   "execution_count": 6,
   "metadata": {},
   "outputs": [
    {
     "output_type": "stream",
     "name": "stdout",
     "text": [
      "starting timecode:\n TimedeltaIndex(['0 days 00:00:00', '0 days 00:00:05', '0 days 00:00:10',\n                '0 days 00:00:15', '0 days 00:00:20'],\n               dtype='timedelta64[ns]', freq='5S')\nending timecode:\n TimedeltaIndex(['0 days 00:00:05', '0 days 00:00:10', '0 days 00:00:15',\n                '0 days 00:00:20', '0 days 00:00:25'],\n               dtype='timedelta64[ns]', freq='5S')\n"
     ]
    }
   ],
   "source": [
    "# setting starting and ending timecode\n",
    "tcstart = pd.timedelta_range(start='0s', periods=npar, freq = sublength)\n",
    "tcend = pd.timedelta_range(start = sublength, periods=npar, freq = sublength)\n",
    "print('starting timecode:\\n', tcstart)\n",
    "print('ending timecode:\\n', tcend)"
   ]
  },
  {
   "cell_type": "code",
   "execution_count": 7,
   "metadata": {},
   "outputs": [
    {
     "output_type": "stream",
     "name": "stdout",
     "text": [
      "['1\\n0 days 00:00:00,000 --> 0 days 00:00:05,000\\nDissuade ecstatic and properly saw\\nentirely sir why laughter endeavor.\\n', '2\\n0 days 00:00:05,000 --> 0 days 00:00:10,000\\nIn on my jointure 2:3 horrible margaret\\nsuitable he followed speedily.\\n', '3\\n0 days 00:00:10,000 --> 0 days 00:00:15,000\\nIndeed vanity excuse 5 or mr lovers of on.\\n', '4\\n0 days 00:00:15,000 --> 0 days 00:00:20,000\\nBy offer scale an stuff.\\nBlush be sorry no sight.\\n', '5\\n0 days 00:00:20,000 --> 0 days 00:00:25,000\\nSang lose of hour then he left find. \\nNow residence dashwoods she excellent you.\\n']\n"
     ]
    }
   ],
   "source": [
    "# combining created lists into one with .srt formatting\n",
    "lcomb = []\n",
    "for i in range(npar):\n",
    "    lcomb.append(str(i+1) + '\\n' + str(tcstart[i]) + ',000 --> ' + str(tcend[i]) + ',000' + '\\n' + par[i] + '\\n')\n",
    "print(lcomb)"
   ]
  },
  {
   "cell_type": "code",
   "execution_count": 8,
   "metadata": {},
   "outputs": [
    {
     "output_type": "stream",
     "name": "stdout",
     "text": [
      "1\n0 days 00:00:00,000 --> 0 days 00:00:05,000\nDissuade ecstatic and properly saw\nentirely sir why laughter endeavor.\n\n2\n0 days 00:00:05,000 --> 0 days 00:00:10,000\nIn on my jointure 2:3 horrible margaret\nsuitable he followed speedily.\n\n3\n0 days 00:00:10,000 --> 0 days 00:00:15,000\nIndeed vanity excuse 5 or mr lovers of on.\n\n4\n0 days 00:00:15,000 --> 0 days 00:00:20,000\nBy offer scale an stuff.\nBlush be sorry no sight.\n\n5\n0 days 00:00:20,000 --> 0 days 00:00:25,000\nSang lose of hour then he left find. \nNow residence dashwoods she excellent you.\n\n"
     ]
    }
   ],
   "source": [
    "# initializing delimiter \n",
    "delim = \"\\n\"\n",
    "# converting list into a string with the delimiter\n",
    "sub = delim.join(lcomb)\n",
    "print(sub)"
   ]
  },
  {
   "cell_type": "code",
   "execution_count": 9,
   "metadata": {},
   "outputs": [
    {
     "output_type": "stream",
     "name": "stdout",
     "text": [
      "1\n00:00:00,000 --> 00:00:05,000\nDissuade ecstatic and properly saw\nentirely sir why laughter endeavor.\n\n2\n00:00:05,000 --> 00:00:10,000\nIn on my jointure 2:3 horrible margaret\nsuitable he followed speedily.\n\n3\n00:00:10,000 --> 00:00:15,000\nIndeed vanity excuse 5 or mr lovers of on.\n\n4\n00:00:15,000 --> 00:00:20,000\nBy offer scale an stuff.\nBlush be sorry no sight.\n\n5\n00:00:20,000 --> 00:00:25,000\nSang lose of hour then he left find. \nNow residence dashwoods she excellent you.\n\n"
     ]
    }
   ],
   "source": [
    "# initializing regex pattern that matches the number of days like '0 days'\n",
    "spat = '\\d* days '\n",
    "# removing '0 days' from the string\n",
    "sub1 = re.sub(spat, '', sub)\n",
    "print(sub1)"
   ]
  },
  {
   "cell_type": "code",
   "execution_count": 10,
   "metadata": {},
   "outputs": [
    {
     "output_type": "execute_result",
     "data": {
      "text/plain": [
       "480"
      ]
     },
     "metadata": {},
     "execution_count": 10
    }
   ],
   "source": [
    "# writing the string to file\n",
    "tout = open('subtitles.srt', 'w')\n",
    "tout.write(sub1)"
   ]
  }
 ]
}