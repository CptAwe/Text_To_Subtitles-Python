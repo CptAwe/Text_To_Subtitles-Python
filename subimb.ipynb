{
 "metadata": {
  "language_info": {
   "codemirror_mode": {
    "name": "ipython",
    "version": 3
   },
   "file_extension": ".py",
   "mimetype": "text/x-python",
   "name": "python",
   "nbconvert_exporter": "python",
   "pygments_lexer": "ipython3",
   "version": "3.9.4"
  },
  "orig_nbformat": 4,
  "kernelspec": {
   "name": "python3",
   "display_name": "Python 3.9.4 64-bit"
  },
  "interpreter": {
   "hash": "aee8b7b246df8f9039afb4144a1f6fd8d2ca17a180786b69acc140d282b71a49"
  }
 },
 "nbformat": 4,
 "nbformat_minor": 2,
 "cells": [
  {
   "cell_type": "code",
   "execution_count": 11,
   "metadata": {},
   "outputs": [],
   "source": [
    "#!/usr/bin/env python\n",
    "# importing pandas and re for regular expressions\n",
    "import pandas as pd\n",
    "import re"
   ]
  },
  {
   "cell_type": "code",
   "execution_count": 12,
   "metadata": {},
   "outputs": [],
   "source": [
    "# initializing subtitle length in seconds\n",
    "sublength = \"5s\""
   ]
  },
  {
   "cell_type": "code",
   "execution_count": 13,
   "metadata": {},
   "outputs": [
    {
     "output_type": "stream",
     "name": "stdout",
     "text": [
      "Dissuade ecstatic and properly saw\nentirely sir why laughter endeavor.\n\nIn on my jointure 2:3 horrible margaret\nsuitable he followed speedily.\n\n\n\nIndeed vanity excuse 5 or mr lovers of on.\n\nBy offer scale an stuff.\n\nBlush be sorry no sight.\n\nSang lose of hour then he left find. \nNow residence dashwoods she excellent you.\n\nDissuade ecstatic and properly saw\nentirely sir why laughter endeavor.\n\nIn on my jointure 2:3 horrible margaret\nsuitable he followed speedily.\n\nIndeed vanity excuse 5 or mr lovers of on.\nBy offer scale an stuff.\n\nBlush be sorry no sight.\n\nSang lose of hour then he left find. \nNow residence dashwoods she excellent you.\n\nDissuade ecstatic and properly saw\nentirely sir why laughter endeavor.\n\nDissuade ecstatic and properly saw\nentirely sir why laughter endeavor.\n\nIn on my jointure 2:3 horrible margaret\nsuitable he followed speedily.\n\n\n\nIndeed vanity excuse 5 or mr lovers of on.\n\nBy offer scale an stuff.\n\nBlush be sorry no sight.\n\nSang lose of hour then he left find. \nNow residence dashwoods she excellent you.\n\nDissuade ecstatic and properly saw\nentirely sir why laughter endeavor.\n\nIn on my jointure 2:3 horrible margaret\nsuitable he followed speedily.\n\nIndeed vanity excuse 5 or mr lovers of on.\nBy offer scale an stuff.\n\nBlush be sorry no sight.\n\nSang lose of hour then he left find. \nNow residence dashwoods she excellent you.\n\nDissuade ecstatic and properly saw\nentirely sir why laughter endeavor.\n\nDissuade ecstatic and properly saw\nentirely sir why laughter endeavor.\n\nIn on my jointure 2:3 horrible margaret\nsuitable he followed speedily.\n\n\n\nIndeed vanity excuse 5 or mr lovers of on.\n\nBy offer scale an stuff.\n\nBlush be sorry no sight.\n\nSang lose of hour then he left find. \nNow residence dashwoods she excellent you.\n\nDissuade ecstatic and properly saw\nentirely sir why laughter endeavor.\n\nIn on my jointure 2:3 horrible margaret\nsuitable he followed speedily.\n\nIndeed vanity excuse 5 or mr lovers of on.\nBy offer scale an stuff.\n\nBlush be sorry no sight.\n\nSang lose of hour then he left find. \nNow residence dashwoods she excellent you.\n\nDissuade ecstatic and properly saw\nentirely sir why laughter endeavor.\n\nDissuade ecstatic and properly saw\nentirely sir why laughter endeavor.\n\nIn on my jointure 2:3 horrible margaret\nsuitable he followed speedily.\n\n\n\nIndeed vanity excuse 5 or mr lovers of on.\n\nBy offer scale an stuff.\n\nBlush be sorry no sight.\n\nSang lose of hour then he left find. \nNow residence dashwoods she excellent you.\n\nDissuade ecstatic and properly saw\nentirely sir why laughter endeavor.\n\nIn on my jointure 2:3 horrible margaret\nsuitable he followed speedily.\n\nIndeed vanity excuse 5 or mr lovers of on.\nBy offer scale an stuff.\n\nBlush be sorry no sight.\n\nSang lose of hour then he left find. \nNow residence dashwoods she excellent you.\n\nDissuade ecstatic and properly saw\nentirely sir why laughter endeavor.\n"
     ]
    }
   ],
   "source": [
    "# initializing input txt file\n",
    "tinp0 = open('subtitles.txt', 'r')\n",
    "tinp = tinp0.read()\n",
    "print(tinp)"
   ]
  },
  {
   "cell_type": "code",
   "execution_count": 14,
   "metadata": {},
   "outputs": [
    {
     "output_type": "stream",
     "name": "stdout",
     "text": [
      "['Dissuade ecstatic and properly saw\\nentirely sir why laughter endeavor.', 'In on my jointure 2:3 horrible margaret\\nsuitable he followed speedily.', 'Indeed vanity excuse 5 or mr lovers of on.', 'By offer scale an stuff.', 'Blush be sorry no sight.', 'Sang lose of hour then he left find. \\nNow residence dashwoods she excellent you.', 'Dissuade ecstatic and properly saw\\nentirely sir why laughter endeavor.', 'In on my jointure 2:3 horrible margaret\\nsuitable he followed speedily.', 'Indeed vanity excuse 5 or mr lovers of on.\\nBy offer scale an stuff.', 'Blush be sorry no sight.', 'Sang lose of hour then he left find. \\nNow residence dashwoods she excellent you.', 'Dissuade ecstatic and properly saw\\nentirely sir why laughter endeavor.', 'Dissuade ecstatic and properly saw\\nentirely sir why laughter endeavor.', 'In on my jointure 2:3 horrible margaret\\nsuitable he followed speedily.', 'Indeed vanity excuse 5 or mr lovers of on.', 'By offer scale an stuff.', 'Blush be sorry no sight.', 'Sang lose of hour then he left find. \\nNow residence dashwoods she excellent you.', 'Dissuade ecstatic and properly saw\\nentirely sir why laughter endeavor.', 'In on my jointure 2:3 horrible margaret\\nsuitable he followed speedily.', 'Indeed vanity excuse 5 or mr lovers of on.\\nBy offer scale an stuff.', 'Blush be sorry no sight.', 'Sang lose of hour then he left find. \\nNow residence dashwoods she excellent you.', 'Dissuade ecstatic and properly saw\\nentirely sir why laughter endeavor.', 'Dissuade ecstatic and properly saw\\nentirely sir why laughter endeavor.', 'In on my jointure 2:3 horrible margaret\\nsuitable he followed speedily.', 'Indeed vanity excuse 5 or mr lovers of on.', 'By offer scale an stuff.', 'Blush be sorry no sight.', 'Sang lose of hour then he left find. \\nNow residence dashwoods she excellent you.', 'Dissuade ecstatic and properly saw\\nentirely sir why laughter endeavor.', 'In on my jointure 2:3 horrible margaret\\nsuitable he followed speedily.', 'Indeed vanity excuse 5 or mr lovers of on.\\nBy offer scale an stuff.', 'Blush be sorry no sight.', 'Sang lose of hour then he left find. \\nNow residence dashwoods she excellent you.', 'Dissuade ecstatic and properly saw\\nentirely sir why laughter endeavor.', 'Dissuade ecstatic and properly saw\\nentirely sir why laughter endeavor.', 'In on my jointure 2:3 horrible margaret\\nsuitable he followed speedily.', 'Indeed vanity excuse 5 or mr lovers of on.', 'By offer scale an stuff.', 'Blush be sorry no sight.', 'Sang lose of hour then he left find. \\nNow residence dashwoods she excellent you.', 'Dissuade ecstatic and properly saw\\nentirely sir why laughter endeavor.', 'In on my jointure 2:3 horrible margaret\\nsuitable he followed speedily.', 'Indeed vanity excuse 5 or mr lovers of on.\\nBy offer scale an stuff.', 'Blush be sorry no sight.', 'Sang lose of hour then he left find. \\nNow residence dashwoods she excellent you.', 'Dissuade ecstatic and properly saw\\nentirely sir why laughter endeavor.']\n"
     ]
    }
   ],
   "source": [
    "# splitting paragraphs into list items with regex\n",
    "par = re.split('\\n{2,}', tinp)\n",
    "print(par)"
   ]
  },
  {
   "cell_type": "code",
   "execution_count": 15,
   "metadata": {},
   "outputs": [
    {
     "output_type": "stream",
     "name": "stdout",
     "text": [
      "total number of paragraphs: 48\n"
     ]
    }
   ],
   "source": [
    "# pulling number of paragraphs in a text doc\n",
    "npar = len(par)\n",
    "print('total number of paragraphs:',npar)"
   ]
  },
  {
   "cell_type": "code",
   "execution_count": 16,
   "metadata": {},
   "outputs": [
    {
     "output_type": "stream",
     "name": "stdout",
     "text": [
      "starting timecode:\n TimedeltaIndex(['0 days 00:00:00', '0 days 00:00:05', '0 days 00:00:10',\n                '0 days 00:00:15', '0 days 00:00:20', '0 days 00:00:25',\n                '0 days 00:00:30', '0 days 00:00:35', '0 days 00:00:40',\n                '0 days 00:00:45', '0 days 00:00:50', '0 days 00:00:55',\n                '0 days 00:01:00', '0 days 00:01:05', '0 days 00:01:10',\n                '0 days 00:01:15', '0 days 00:01:20', '0 days 00:01:25',\n                '0 days 00:01:30', '0 days 00:01:35', '0 days 00:01:40',\n                '0 days 00:01:45', '0 days 00:01:50', '0 days 00:01:55',\n                '0 days 00:02:00', '0 days 00:02:05', '0 days 00:02:10',\n                '0 days 00:02:15', '0 days 00:02:20', '0 days 00:02:25',\n                '0 days 00:02:30', '0 days 00:02:35', '0 days 00:02:40',\n                '0 days 00:02:45', '0 days 00:02:50', '0 days 00:02:55',\n                '0 days 00:03:00', '0 days 00:03:05', '0 days 00:03:10',\n                '0 days 00:03:15', '0 days 00:03:20', '0 days 00:03:25',\n                '0 days 00:03:30', '0 days 00:03:35', '0 days 00:03:40',\n                '0 days 00:03:45', '0 days 00:03:50', '0 days 00:03:55'],\n               dtype='timedelta64[ns]', freq='5S')\nending timecode:\n TimedeltaIndex(['0 days 00:00:05', '0 days 00:00:10', '0 days 00:00:15',\n                '0 days 00:00:20', '0 days 00:00:25', '0 days 00:00:30',\n                '0 days 00:00:35', '0 days 00:00:40', '0 days 00:00:45',\n                '0 days 00:00:50', '0 days 00:00:55', '0 days 00:01:00',\n                '0 days 00:01:05', '0 days 00:01:10', '0 days 00:01:15',\n                '0 days 00:01:20', '0 days 00:01:25', '0 days 00:01:30',\n                '0 days 00:01:35', '0 days 00:01:40', '0 days 00:01:45',\n                '0 days 00:01:50', '0 days 00:01:55', '0 days 00:02:00',\n                '0 days 00:02:05', '0 days 00:02:10', '0 days 00:02:15',\n                '0 days 00:02:20', '0 days 00:02:25', '0 days 00:02:30',\n                '0 days 00:02:35', '0 days 00:02:40', '0 days 00:02:45',\n                '0 days 00:02:50', '0 days 00:02:55', '0 days 00:03:00',\n                '0 days 00:03:05', '0 days 00:03:10', '0 days 00:03:15',\n                '0 days 00:03:20', '0 days 00:03:25', '0 days 00:03:30',\n                '0 days 00:03:35', '0 days 00:03:40', '0 days 00:03:45',\n                '0 days 00:03:50', '0 days 00:03:55', '0 days 00:04:00'],\n               dtype='timedelta64[ns]', freq='5S')\n"
     ]
    }
   ],
   "source": [
    "# setting starting and ending timecode\n",
    "tcstart = pd.timedelta_range(start='0s', periods=npar, freq = sublength)\n",
    "tcend = pd.timedelta_range(start = sublength, periods=npar, freq = sublength)\n",
    "print('starting timecode:\\n', tcstart)\n",
    "print('ending timecode:\\n', tcend)"
   ]
  },
  {
   "cell_type": "code",
   "execution_count": 17,
   "metadata": {},
   "outputs": [
    {
     "output_type": "stream",
     "name": "stdout",
     "text": [
      "['1\\n0 days 00:00:00,000 --> 0 days 00:00:05,000\\nDissuade ecstatic and properly saw\\nentirely sir why laughter endeavor.\\n', '2\\n0 days 00:00:05,000 --> 0 days 00:00:10,000\\nIn on my jointure 2:3 horrible margaret\\nsuitable he followed speedily.\\n', '3\\n0 days 00:00:10,000 --> 0 days 00:00:15,000\\nIndeed vanity excuse 5 or mr lovers of on.\\n', '4\\n0 days 00:00:15,000 --> 0 days 00:00:20,000\\nBy offer scale an stuff.\\n', '5\\n0 days 00:00:20,000 --> 0 days 00:00:25,000\\nBlush be sorry no sight.\\n', '6\\n0 days 00:00:25,000 --> 0 days 00:00:30,000\\nSang lose of hour then he left find. \\nNow residence dashwoods she excellent you.\\n', '7\\n0 days 00:00:30,000 --> 0 days 00:00:35,000\\nDissuade ecstatic and properly saw\\nentirely sir why laughter endeavor.\\n', '8\\n0 days 00:00:35,000 --> 0 days 00:00:40,000\\nIn on my jointure 2:3 horrible margaret\\nsuitable he followed speedily.\\n', '9\\n0 days 00:00:40,000 --> 0 days 00:00:45,000\\nIndeed vanity excuse 5 or mr lovers of on.\\nBy offer scale an stuff.\\n', '10\\n0 days 00:00:45,000 --> 0 days 00:00:50,000\\nBlush be sorry no sight.\\n', '11\\n0 days 00:00:50,000 --> 0 days 00:00:55,000\\nSang lose of hour then he left find. \\nNow residence dashwoods she excellent you.\\n', '12\\n0 days 00:00:55,000 --> 0 days 00:01:00,000\\nDissuade ecstatic and properly saw\\nentirely sir why laughter endeavor.\\n', '13\\n0 days 00:01:00,000 --> 0 days 00:01:05,000\\nDissuade ecstatic and properly saw\\nentirely sir why laughter endeavor.\\n', '14\\n0 days 00:01:05,000 --> 0 days 00:01:10,000\\nIn on my jointure 2:3 horrible margaret\\nsuitable he followed speedily.\\n', '15\\n0 days 00:01:10,000 --> 0 days 00:01:15,000\\nIndeed vanity excuse 5 or mr lovers of on.\\n', '16\\n0 days 00:01:15,000 --> 0 days 00:01:20,000\\nBy offer scale an stuff.\\n', '17\\n0 days 00:01:20,000 --> 0 days 00:01:25,000\\nBlush be sorry no sight.\\n', '18\\n0 days 00:01:25,000 --> 0 days 00:01:30,000\\nSang lose of hour then he left find. \\nNow residence dashwoods she excellent you.\\n', '19\\n0 days 00:01:30,000 --> 0 days 00:01:35,000\\nDissuade ecstatic and properly saw\\nentirely sir why laughter endeavor.\\n', '20\\n0 days 00:01:35,000 --> 0 days 00:01:40,000\\nIn on my jointure 2:3 horrible margaret\\nsuitable he followed speedily.\\n', '21\\n0 days 00:01:40,000 --> 0 days 00:01:45,000\\nIndeed vanity excuse 5 or mr lovers of on.\\nBy offer scale an stuff.\\n', '22\\n0 days 00:01:45,000 --> 0 days 00:01:50,000\\nBlush be sorry no sight.\\n', '23\\n0 days 00:01:50,000 --> 0 days 00:01:55,000\\nSang lose of hour then he left find. \\nNow residence dashwoods she excellent you.\\n', '24\\n0 days 00:01:55,000 --> 0 days 00:02:00,000\\nDissuade ecstatic and properly saw\\nentirely sir why laughter endeavor.\\n', '25\\n0 days 00:02:00,000 --> 0 days 00:02:05,000\\nDissuade ecstatic and properly saw\\nentirely sir why laughter endeavor.\\n', '26\\n0 days 00:02:05,000 --> 0 days 00:02:10,000\\nIn on my jointure 2:3 horrible margaret\\nsuitable he followed speedily.\\n', '27\\n0 days 00:02:10,000 --> 0 days 00:02:15,000\\nIndeed vanity excuse 5 or mr lovers of on.\\n', '28\\n0 days 00:02:15,000 --> 0 days 00:02:20,000\\nBy offer scale an stuff.\\n', '29\\n0 days 00:02:20,000 --> 0 days 00:02:25,000\\nBlush be sorry no sight.\\n', '30\\n0 days 00:02:25,000 --> 0 days 00:02:30,000\\nSang lose of hour then he left find. \\nNow residence dashwoods she excellent you.\\n', '31\\n0 days 00:02:30,000 --> 0 days 00:02:35,000\\nDissuade ecstatic and properly saw\\nentirely sir why laughter endeavor.\\n', '32\\n0 days 00:02:35,000 --> 0 days 00:02:40,000\\nIn on my jointure 2:3 horrible margaret\\nsuitable he followed speedily.\\n', '33\\n0 days 00:02:40,000 --> 0 days 00:02:45,000\\nIndeed vanity excuse 5 or mr lovers of on.\\nBy offer scale an stuff.\\n', '34\\n0 days 00:02:45,000 --> 0 days 00:02:50,000\\nBlush be sorry no sight.\\n', '35\\n0 days 00:02:50,000 --> 0 days 00:02:55,000\\nSang lose of hour then he left find. \\nNow residence dashwoods she excellent you.\\n', '36\\n0 days 00:02:55,000 --> 0 days 00:03:00,000\\nDissuade ecstatic and properly saw\\nentirely sir why laughter endeavor.\\n', '37\\n0 days 00:03:00,000 --> 0 days 00:03:05,000\\nDissuade ecstatic and properly saw\\nentirely sir why laughter endeavor.\\n', '38\\n0 days 00:03:05,000 --> 0 days 00:03:10,000\\nIn on my jointure 2:3 horrible margaret\\nsuitable he followed speedily.\\n', '39\\n0 days 00:03:10,000 --> 0 days 00:03:15,000\\nIndeed vanity excuse 5 or mr lovers of on.\\n', '40\\n0 days 00:03:15,000 --> 0 days 00:03:20,000\\nBy offer scale an stuff.\\n', '41\\n0 days 00:03:20,000 --> 0 days 00:03:25,000\\nBlush be sorry no sight.\\n', '42\\n0 days 00:03:25,000 --> 0 days 00:03:30,000\\nSang lose of hour then he left find. \\nNow residence dashwoods she excellent you.\\n', '43\\n0 days 00:03:30,000 --> 0 days 00:03:35,000\\nDissuade ecstatic and properly saw\\nentirely sir why laughter endeavor.\\n', '44\\n0 days 00:03:35,000 --> 0 days 00:03:40,000\\nIn on my jointure 2:3 horrible margaret\\nsuitable he followed speedily.\\n', '45\\n0 days 00:03:40,000 --> 0 days 00:03:45,000\\nIndeed vanity excuse 5 or mr lovers of on.\\nBy offer scale an stuff.\\n', '46\\n0 days 00:03:45,000 --> 0 days 00:03:50,000\\nBlush be sorry no sight.\\n', '47\\n0 days 00:03:50,000 --> 0 days 00:03:55,000\\nSang lose of hour then he left find. \\nNow residence dashwoods she excellent you.\\n', '48\\n0 days 00:03:55,000 --> 0 days 00:04:00,000\\nDissuade ecstatic and properly saw\\nentirely sir why laughter endeavor.\\n']\n"
     ]
    }
   ],
   "source": [
    "# combining created lists into one with .srt formatting\n",
    "lcomb = []\n",
    "for i in range(npar):\n",
    "    lcomb.append(str(i+1) + '\\n' + str(tcstart[i]) + ',000 --> ' + str(tcend[i]) + ',000' + '\\n' + par[i] + '\\n')\n",
    "print(lcomb)"
   ]
  },
  {
   "cell_type": "code",
   "execution_count": 18,
   "metadata": {},
   "outputs": [
    {
     "output_type": "stream",
     "name": "stdout",
     "text": [
      "1\n0 days 00:00:00,000 --> 0 days 00:00:05,000\nDissuade ecstatic and properly saw\nentirely sir why laughter endeavor.\n\n2\n0 days 00:00:05,000 --> 0 days 00:00:10,000\nIn on my jointure 2:3 horrible margaret\nsuitable he followed speedily.\n\n3\n0 days 00:00:10,000 --> 0 days 00:00:15,000\nIndeed vanity excuse 5 or mr lovers of on.\n\n4\n0 days 00:00:15,000 --> 0 days 00:00:20,000\nBy offer scale an stuff.\n\n5\n0 days 00:00:20,000 --> 0 days 00:00:25,000\nBlush be sorry no sight.\n\n6\n0 days 00:00:25,000 --> 0 days 00:00:30,000\nSang lose of hour then he left find. \nNow residence dashwoods she excellent you.\n\n7\n0 days 00:00:30,000 --> 0 days 00:00:35,000\nDissuade ecstatic and properly saw\nentirely sir why laughter endeavor.\n\n8\n0 days 00:00:35,000 --> 0 days 00:00:40,000\nIn on my jointure 2:3 horrible margaret\nsuitable he followed speedily.\n\n9\n0 days 00:00:40,000 --> 0 days 00:00:45,000\nIndeed vanity excuse 5 or mr lovers of on.\nBy offer scale an stuff.\n\n10\n0 days 00:00:45,000 --> 0 days 00:00:50,000\nBlush be sorry no sight.\n\n11\n0 days 00:00:50,000 --> 0 days 00:00:55,000\nSang lose of hour then he left find. \nNow residence dashwoods she excellent you.\n\n12\n0 days 00:00:55,000 --> 0 days 00:01:00,000\nDissuade ecstatic and properly saw\nentirely sir why laughter endeavor.\n\n13\n0 days 00:01:00,000 --> 0 days 00:01:05,000\nDissuade ecstatic and properly saw\nentirely sir why laughter endeavor.\n\n14\n0 days 00:01:05,000 --> 0 days 00:01:10,000\nIn on my jointure 2:3 horrible margaret\nsuitable he followed speedily.\n\n15\n0 days 00:01:10,000 --> 0 days 00:01:15,000\nIndeed vanity excuse 5 or mr lovers of on.\n\n16\n0 days 00:01:15,000 --> 0 days 00:01:20,000\nBy offer scale an stuff.\n\n17\n0 days 00:01:20,000 --> 0 days 00:01:25,000\nBlush be sorry no sight.\n\n18\n0 days 00:01:25,000 --> 0 days 00:01:30,000\nSang lose of hour then he left find. \nNow residence dashwoods she excellent you.\n\n19\n0 days 00:01:30,000 --> 0 days 00:01:35,000\nDissuade ecstatic and properly saw\nentirely sir why laughter endeavor.\n\n20\n0 days 00:01:35,000 --> 0 days 00:01:40,000\nIn on my jointure 2:3 horrible margaret\nsuitable he followed speedily.\n\n21\n0 days 00:01:40,000 --> 0 days 00:01:45,000\nIndeed vanity excuse 5 or mr lovers of on.\nBy offer scale an stuff.\n\n22\n0 days 00:01:45,000 --> 0 days 00:01:50,000\nBlush be sorry no sight.\n\n23\n0 days 00:01:50,000 --> 0 days 00:01:55,000\nSang lose of hour then he left find. \nNow residence dashwoods she excellent you.\n\n24\n0 days 00:01:55,000 --> 0 days 00:02:00,000\nDissuade ecstatic and properly saw\nentirely sir why laughter endeavor.\n\n25\n0 days 00:02:00,000 --> 0 days 00:02:05,000\nDissuade ecstatic and properly saw\nentirely sir why laughter endeavor.\n\n26\n0 days 00:02:05,000 --> 0 days 00:02:10,000\nIn on my jointure 2:3 horrible margaret\nsuitable he followed speedily.\n\n27\n0 days 00:02:10,000 --> 0 days 00:02:15,000\nIndeed vanity excuse 5 or mr lovers of on.\n\n28\n0 days 00:02:15,000 --> 0 days 00:02:20,000\nBy offer scale an stuff.\n\n29\n0 days 00:02:20,000 --> 0 days 00:02:25,000\nBlush be sorry no sight.\n\n30\n0 days 00:02:25,000 --> 0 days 00:02:30,000\nSang lose of hour then he left find. \nNow residence dashwoods she excellent you.\n\n31\n0 days 00:02:30,000 --> 0 days 00:02:35,000\nDissuade ecstatic and properly saw\nentirely sir why laughter endeavor.\n\n32\n0 days 00:02:35,000 --> 0 days 00:02:40,000\nIn on my jointure 2:3 horrible margaret\nsuitable he followed speedily.\n\n33\n0 days 00:02:40,000 --> 0 days 00:02:45,000\nIndeed vanity excuse 5 or mr lovers of on.\nBy offer scale an stuff.\n\n34\n0 days 00:02:45,000 --> 0 days 00:02:50,000\nBlush be sorry no sight.\n\n35\n0 days 00:02:50,000 --> 0 days 00:02:55,000\nSang lose of hour then he left find. \nNow residence dashwoods she excellent you.\n\n36\n0 days 00:02:55,000 --> 0 days 00:03:00,000\nDissuade ecstatic and properly saw\nentirely sir why laughter endeavor.\n\n37\n0 days 00:03:00,000 --> 0 days 00:03:05,000\nDissuade ecstatic and properly saw\nentirely sir why laughter endeavor.\n\n38\n0 days 00:03:05,000 --> 0 days 00:03:10,000\nIn on my jointure 2:3 horrible margaret\nsuitable he followed speedily.\n\n39\n0 days 00:03:10,000 --> 0 days 00:03:15,000\nIndeed vanity excuse 5 or mr lovers of on.\n\n40\n0 days 00:03:15,000 --> 0 days 00:03:20,000\nBy offer scale an stuff.\n\n41\n0 days 00:03:20,000 --> 0 days 00:03:25,000\nBlush be sorry no sight.\n\n42\n0 days 00:03:25,000 --> 0 days 00:03:30,000\nSang lose of hour then he left find. \nNow residence dashwoods she excellent you.\n\n43\n0 days 00:03:30,000 --> 0 days 00:03:35,000\nDissuade ecstatic and properly saw\nentirely sir why laughter endeavor.\n\n44\n0 days 00:03:35,000 --> 0 days 00:03:40,000\nIn on my jointure 2:3 horrible margaret\nsuitable he followed speedily.\n\n45\n0 days 00:03:40,000 --> 0 days 00:03:45,000\nIndeed vanity excuse 5 or mr lovers of on.\nBy offer scale an stuff.\n\n46\n0 days 00:03:45,000 --> 0 days 00:03:50,000\nBlush be sorry no sight.\n\n47\n0 days 00:03:50,000 --> 0 days 00:03:55,000\nSang lose of hour then he left find. \nNow residence dashwoods she excellent you.\n\n48\n0 days 00:03:55,000 --> 0 days 00:04:00,000\nDissuade ecstatic and properly saw\nentirely sir why laughter endeavor.\n\n"
     ]
    }
   ],
   "source": [
    "# initializing delimiter \n",
    "delim = \"\\n\"\n",
    "# converting list into a string with the delimiter\n",
    "sub = delim.join(lcomb)\n",
    "print(sub)"
   ]
  },
  {
   "cell_type": "code",
   "execution_count": 19,
   "metadata": {},
   "outputs": [
    {
     "output_type": "stream",
     "name": "stdout",
     "text": [
      "1\n00:00:00,000 --> 00:00:05,000\nDissuade ecstatic and properly saw\nentirely sir why laughter endeavor.\n\n2\n00:00:05,000 --> 00:00:10,000\nIn on my jointure 2:3 horrible margaret\nsuitable he followed speedily.\n\n3\n00:00:10,000 --> 00:00:15,000\nIndeed vanity excuse 5 or mr lovers of on.\n\n4\n00:00:15,000 --> 00:00:20,000\nBy offer scale an stuff.\n\n5\n00:00:20,000 --> 00:00:25,000\nBlush be sorry no sight.\n\n6\n00:00:25,000 --> 00:00:30,000\nSang lose of hour then he left find. \nNow residence dashwoods she excellent you.\n\n7\n00:00:30,000 --> 00:00:35,000\nDissuade ecstatic and properly saw\nentirely sir why laughter endeavor.\n\n8\n00:00:35,000 --> 00:00:40,000\nIn on my jointure 2:3 horrible margaret\nsuitable he followed speedily.\n\n9\n00:00:40,000 --> 00:00:45,000\nIndeed vanity excuse 5 or mr lovers of on.\nBy offer scale an stuff.\n\n10\n00:00:45,000 --> 00:00:50,000\nBlush be sorry no sight.\n\n11\n00:00:50,000 --> 00:00:55,000\nSang lose of hour then he left find. \nNow residence dashwoods she excellent you.\n\n12\n00:00:55,000 --> 00:01:00,000\nDissuade ecstatic and properly saw\nentirely sir why laughter endeavor.\n\n13\n00:01:00,000 --> 00:01:05,000\nDissuade ecstatic and properly saw\nentirely sir why laughter endeavor.\n\n14\n00:01:05,000 --> 00:01:10,000\nIn on my jointure 2:3 horrible margaret\nsuitable he followed speedily.\n\n15\n00:01:10,000 --> 00:01:15,000\nIndeed vanity excuse 5 or mr lovers of on.\n\n16\n00:01:15,000 --> 00:01:20,000\nBy offer scale an stuff.\n\n17\n00:01:20,000 --> 00:01:25,000\nBlush be sorry no sight.\n\n18\n00:01:25,000 --> 00:01:30,000\nSang lose of hour then he left find. \nNow residence dashwoods she excellent you.\n\n19\n00:01:30,000 --> 00:01:35,000\nDissuade ecstatic and properly saw\nentirely sir why laughter endeavor.\n\n20\n00:01:35,000 --> 00:01:40,000\nIn on my jointure 2:3 horrible margaret\nsuitable he followed speedily.\n\n21\n00:01:40,000 --> 00:01:45,000\nIndeed vanity excuse 5 or mr lovers of on.\nBy offer scale an stuff.\n\n22\n00:01:45,000 --> 00:01:50,000\nBlush be sorry no sight.\n\n23\n00:01:50,000 --> 00:01:55,000\nSang lose of hour then he left find. \nNow residence dashwoods she excellent you.\n\n24\n00:01:55,000 --> 00:02:00,000\nDissuade ecstatic and properly saw\nentirely sir why laughter endeavor.\n\n25\n00:02:00,000 --> 00:02:05,000\nDissuade ecstatic and properly saw\nentirely sir why laughter endeavor.\n\n26\n00:02:05,000 --> 00:02:10,000\nIn on my jointure 2:3 horrible margaret\nsuitable he followed speedily.\n\n27\n00:02:10,000 --> 00:02:15,000\nIndeed vanity excuse 5 or mr lovers of on.\n\n28\n00:02:15,000 --> 00:02:20,000\nBy offer scale an stuff.\n\n29\n00:02:20,000 --> 00:02:25,000\nBlush be sorry no sight.\n\n30\n00:02:25,000 --> 00:02:30,000\nSang lose of hour then he left find. \nNow residence dashwoods she excellent you.\n\n31\n00:02:30,000 --> 00:02:35,000\nDissuade ecstatic and properly saw\nentirely sir why laughter endeavor.\n\n32\n00:02:35,000 --> 00:02:40,000\nIn on my jointure 2:3 horrible margaret\nsuitable he followed speedily.\n\n33\n00:02:40,000 --> 00:02:45,000\nIndeed vanity excuse 5 or mr lovers of on.\nBy offer scale an stuff.\n\n34\n00:02:45,000 --> 00:02:50,000\nBlush be sorry no sight.\n\n35\n00:02:50,000 --> 00:02:55,000\nSang lose of hour then he left find. \nNow residence dashwoods she excellent you.\n\n36\n00:02:55,000 --> 00:03:00,000\nDissuade ecstatic and properly saw\nentirely sir why laughter endeavor.\n\n37\n00:03:00,000 --> 00:03:05,000\nDissuade ecstatic and properly saw\nentirely sir why laughter endeavor.\n\n38\n00:03:05,000 --> 00:03:10,000\nIn on my jointure 2:3 horrible margaret\nsuitable he followed speedily.\n\n39\n00:03:10,000 --> 00:03:15,000\nIndeed vanity excuse 5 or mr lovers of on.\n\n40\n00:03:15,000 --> 00:03:20,000\nBy offer scale an stuff.\n\n41\n00:03:20,000 --> 00:03:25,000\nBlush be sorry no sight.\n\n42\n00:03:25,000 --> 00:03:30,000\nSang lose of hour then he left find. \nNow residence dashwoods she excellent you.\n\n43\n00:03:30,000 --> 00:03:35,000\nDissuade ecstatic and properly saw\nentirely sir why laughter endeavor.\n\n44\n00:03:35,000 --> 00:03:40,000\nIn on my jointure 2:3 horrible margaret\nsuitable he followed speedily.\n\n45\n00:03:40,000 --> 00:03:45,000\nIndeed vanity excuse 5 or mr lovers of on.\nBy offer scale an stuff.\n\n46\n00:03:45,000 --> 00:03:50,000\nBlush be sorry no sight.\n\n47\n00:03:50,000 --> 00:03:55,000\nSang lose of hour then he left find. \nNow residence dashwoods she excellent you.\n\n48\n00:03:55,000 --> 00:04:00,000\nDissuade ecstatic and properly saw\nentirely sir why laughter endeavor.\n\n"
     ]
    }
   ],
   "source": [
    "# initializing regex pattern that matches the number of days like '0 days'\n",
    "spat = '\\d* days '\n",
    "# removing '0 days' from the string\n",
    "sub1 = re.sub(spat, '', sub)\n",
    "print(sub1)"
   ]
  },
  {
   "cell_type": "code",
   "execution_count": 20,
   "metadata": {},
   "outputs": [
    {
     "output_type": "execute_result",
     "data": {
      "text/plain": [
       "4434"
      ]
     },
     "metadata": {},
     "execution_count": 20
    }
   ],
   "source": [
    "# writing the string to file\n",
    "tout = open('subtitles.srt', 'w')\n",
    "tout.write(sub1)"
   ]
  }
 ]
}